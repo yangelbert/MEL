{
 "cells": [
  {
   "cell_type": "code",
   "execution_count": 1,
   "id": "bbcc46c5",
   "metadata": {},
   "outputs": [],
   "source": [
    "import MEL_function as MF\n",
    "import MEL_process as MP\n",
    "import attributes\n",
    "from datetime import datetime"
   ]
  },
  {
   "cell_type": "code",
   "execution_count": 2,
   "id": "b35926a7",
   "metadata": {},
   "outputs": [],
   "source": [
    "total_case = 1000\n",
    "MF.initialize(total_case) #initialize case & generate event log tables\n",
    "\n",
    "attributes.initialize() #initialize attributes data"
   ]
  },
  {
   "cell_type": "code",
   "execution_count": 3,
   "id": "568e643d",
   "metadata": {},
   "outputs": [
    {
     "name": "stdout",
     "output_type": "stream",
     "text": [
      "2021-09-08 11:07:29.854281\n"
     ]
    }
   ],
   "source": [
    "print(datetime.now())"
   ]
  },
  {
   "cell_type": "code",
   "execution_count": 4,
   "id": "2d2e61ce",
   "metadata": {},
   "outputs": [],
   "source": [
    "#main process\n",
    "\n",
    "MP.run()"
   ]
  },
  {
   "cell_type": "code",
   "execution_count": 5,
   "id": "dd61acaf",
   "metadata": {},
   "outputs": [],
   "source": [
    "#MF.rearrange() #sort case_id by timestamp\n",
    "\n",
    "MF.export_table() #export table as csv"
   ]
  },
  {
   "cell_type": "code",
   "execution_count": 6,
   "id": "f0586f16",
   "metadata": {},
   "outputs": [
    {
     "name": "stdout",
     "output_type": "stream",
     "text": [
      "2021-09-08 11:43:46.768827\n"
     ]
    }
   ],
   "source": [
    "print(datetime.now())"
   ]
  },
  {
   "cell_type": "code",
   "execution_count": null,
   "id": "0705954d",
   "metadata": {},
   "outputs": [],
   "source": []
  }
 ],
 "metadata": {
  "kernelspec": {
   "display_name": "Python 3",
   "language": "python",
   "name": "python3"
  },
  "language_info": {
   "codemirror_mode": {
    "name": "ipython",
    "version": 3
   },
   "file_extension": ".py",
   "mimetype": "text/x-python",
   "name": "python",
   "nbconvert_exporter": "python",
   "pygments_lexer": "ipython3",
   "version": "3.8.8"
  }
 },
 "nbformat": 4,
 "nbformat_minor": 5
}
